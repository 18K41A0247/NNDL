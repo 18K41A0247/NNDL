{
  "nbformat": 4,
  "nbformat_minor": 0,
  "metadata": {
    "colab": {
      "name": "Assignment-3.ipynb",
      "provenance": [],
      "collapsed_sections": [],
      "authorship_tag": "ABX9TyNJeD4FUadx35f4fkMKm2pJ",
      "include_colab_link": true
    },
    "kernelspec": {
      "name": "python3",
      "display_name": "Python 3"
    },
    "language_info": {
      "name": "python"
    }
  },
  "cells": [
    {
      "cell_type": "markdown",
      "metadata": {
        "id": "view-in-github",
        "colab_type": "text"
      },
      "source": [
        "<a href=\"https://colab.research.google.com/github/18K41A0247/NNDL/blob/main/Assignment_3.ipynb\" target=\"_parent\"><img src=\"https://colab.research.google.com/assets/colab-badge.svg\" alt=\"Open In Colab\"/></a>"
      ]
    },
    {
      "cell_type": "code",
      "metadata": {
        "colab": {
          "base_uri": "https://localhost:8080/"
        },
        "id": "zc-JKDe-dUNo",
        "outputId": "585a106c-6ac3-431e-bac5-75214740252c"
      },
      "source": [
        "import pandas as pd\n",
        "from sympy import *\n",
        "d1=[[0.2,3.4],[0.4,3.8],[0.6,4.2],[0.8,4.6]]\n",
        "print(d1)\n",
        "d2=pd.DataFrame(d1,columns=(\"X\",\"Y\"))\n",
        "print(d2)\n",
        "m=1\n",
        "c=-1\n",
        "n=0.1\n",
        "epochs=100\n",
        "x=symbols('x')\n",
        "y=symbols('y')\n",
        "l=len(d2)\n",
        "for i in range(epochs):\n",
        "  for j in range(l):\n",
        "    gm=-(y-m*x-c)*x\n",
        "    gc=-(y-m*x-c)\n",
        "    #print(j)\n",
        "    x1=d2.iloc[j,0]\n",
        "    y1=d2.iloc[j,1]\n",
        "    gm1=gm.subs([(x,x1),(y,y1)])\n",
        "    gc1=gc.subs([(x,x1),(y,y1)])\n",
        "    deltam=-n*gm1\n",
        "    deltac=-n*gc1\n",
        "    newm = m + deltam\n",
        "    newc = c + deltac\n",
        "    m=newm\n",
        "    c=newc\n",
        "    #print(m,c)\n",
        "fm=round(m,2)\n",
        "fc=round(c,2)\n",
        "print(\"final m value=\",fm)\n",
        "print(\"final c value=\",fc)"
      ],
      "execution_count": null,
      "outputs": [
        {
          "output_type": "stream",
          "text": [
            "[[0.2, 3.4], [0.4, 3.8], [0.6, 4.2], [0.8, 4.6]]\n",
            "     X    Y\n",
            "0  0.2  3.4\n",
            "1  0.4  3.8\n",
            "2  0.6  4.2\n",
            "3  0.8  4.6\n",
            "final m value= 2.14\n",
            "final c value= 2.92\n"
          ],
          "name": "stdout"
        }
      ]
    }
  ]
}